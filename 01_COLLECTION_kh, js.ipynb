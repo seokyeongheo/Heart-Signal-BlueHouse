{
 "cells": [
  {
   "cell_type": "markdown",
   "metadata": {},
   "source": [
    "# SETUP\n",
    "- - - "
   ]
  },
  {
   "cell_type": "code",
   "execution_count": 1,
   "metadata": {},
   "outputs": [],
   "source": [
    "import numpy as np\n",
    "import pandas as pd\n",
    "import requests\n",
    "from scrapy.http import TextResponse\n",
    "from selenium import webdriver\n",
    "from selenium.webdriver.common.keys import Keys\n",
    "\n",
    "import time"
   ]
  },
  {
   "cell_type": "markdown",
   "metadata": {},
   "source": [
    "### 중앙일보\n",
    "\n",
    "- 기사 크롤링\n",
    "- 기사를 joongangilbo DF body에 넣기"
   ]
  },
  {
   "cell_type": "code",
   "execution_count": null,
   "metadata": {},
   "outputs": [],
   "source": []
  },
  {
   "cell_type": "code",
   "execution_count": 45,
   "metadata": {},
   "outputs": [],
   "source": [
    "driver = webdriver.Chrome()"
   ]
  },
  {
   "cell_type": "code",
   "execution_count": null,
   "metadata": {},
   "outputs": [],
   "source": [
    "# 웹 페이지 주소(url) 가져오기"
   ]
  },
  {
   "cell_type": "code",
   "execution_count": 46,
   "metadata": {},
   "outputs": [],
   "source": [
    "url = \"https://news.joins.com/article/10221124\"\n",
    "driver.get(url)"
   ]
  },
  {
   "cell_type": "code",
   "execution_count": null,
   "metadata": {},
   "outputs": [],
   "source": [
    "# 웹 페이지 크롤링"
   ]
  },
  {
   "cell_type": "code",
   "execution_count": 26,
   "metadata": {},
   "outputs": [
    {
     "data": {
      "text/html": [
       "<div>\n",
       "<style scoped>\n",
       "    .dataframe tbody tr th:only-of-type {\n",
       "        vertical-align: middle;\n",
       "    }\n",
       "\n",
       "    .dataframe tbody tr th {\n",
       "        vertical-align: top;\n",
       "    }\n",
       "\n",
       "    .dataframe thead th {\n",
       "        text-align: right;\n",
       "    }\n",
       "</style>\n",
       "<table border=\"1\" class=\"dataframe\">\n",
       "  <thead>\n",
       "    <tr style=\"text-align: right;\">\n",
       "      <th></th>\n",
       "      <th>date</th>\n",
       "      <th>title</th>\n",
       "      <th>body</th>\n",
       "    </tr>\n",
       "  </thead>\n",
       "  <tbody>\n",
       "    <tr>\n",
       "      <th>0</th>\n",
       "      <td>2012.12.20</td>\n",
       "      <td>[사설] 여성 대통령 박근혜 … 화려한 기록, 무거운 짐</td>\n",
       "      <td>박근혜 새누리당 후보가 18대 대통령으로 선출됐다. 여성 대통령은 한국은 물론 세계...</td>\n",
       "    </tr>\n",
       "  </tbody>\n",
       "</table>\n",
       "</div>"
      ],
      "text/plain": [
       "         date                            title  \\\n",
       "0  2012.12.20  [사설] 여성 대통령 박근혜 … 화려한 기록, 무거운 짐   \n",
       "\n",
       "                                                body  \n",
       "0  박근혜 새누리당 후보가 18대 대통령으로 선출됐다. 여성 대통령은 한국은 물론 세계...  "
      ]
     },
     "execution_count": 26,
     "metadata": {},
     "output_type": "execute_result"
    }
   ],
   "source": [
    "joongangilbo = pd.DataFrame(columns=[\"date\", \"title\", \"body\"])\n",
    "\n",
    "article_date = driver.find_element_by_css_selector(\"#body > div.article_head > div.clearfx > div.byline > em:nth-child(2)\").text[3:13]\n",
    "article_title = driver.find_element_by_css_selector(\"#article_title\").text\n",
    "article_body = driver.find_element_by_css_selector(\"#article_body\").text\n",
    "\n",
    "joongangilbo[\"date\"] = [article_date]\n",
    "joongangilbo[\"title\"] = [article_title]\n",
    "joongangilbo[\"body\"] = [article_body]\n",
    "joongangilbo"
   ]
  },
  {
   "cell_type": "code",
   "execution_count": null,
   "metadata": {},
   "outputs": [],
   "source": []
  },
  {
   "cell_type": "markdown",
   "metadata": {},
   "source": [
    "##### 웹페이지 주소 가져오기 "
   ]
  },
  {
   "cell_type": "code",
   "execution_count": 2,
   "metadata": {},
   "outputs": [],
   "source": [
    "driver = webdriver.Chrome()"
   ]
  },
  {
   "cell_type": "code",
   "execution_count": 3,
   "metadata": {},
   "outputs": [],
   "source": [
    "url = \"https://search.joins.com/TotalNews?page=159&Keyword=%EC%82%AC%EC%84%A4%20%EB%B0%95%EA%B7%BC%ED%98%9C&PeriodType=DirectInput&StartSearchDate=12%2F20%2F2012%2000%3A00%3A00&EndSearchDate=08%2F02%2F2018%2000%3A00%3A00&SortType=New&SourceGroupType=Joongang&ServiceCode=20&SearchCategoryType=TotalNews&MatchKeyword=%EC%82%AC%EC%84%A4\"\n",
    "driver.get(url)"
   ]
  },
  {
   "cell_type": "code",
   "execution_count": 4,
   "metadata": {},
   "outputs": [
    {
     "data": {
      "text/plain": [
       "[<selenium.webdriver.remote.webelement.WebElement (session=\"746079733e053dce4c8e91c1a1e3174f\", element=\"0.31255751427236844-1\")>,\n",
       " <selenium.webdriver.remote.webelement.WebElement (session=\"746079733e053dce4c8e91c1a1e3174f\", element=\"0.31255751427236844-2\")>,\n",
       " <selenium.webdriver.remote.webelement.WebElement (session=\"746079733e053dce4c8e91c1a1e3174f\", element=\"0.31255751427236844-3\")>,\n",
       " <selenium.webdriver.remote.webelement.WebElement (session=\"746079733e053dce4c8e91c1a1e3174f\", element=\"0.31255751427236844-4\")>,\n",
       " <selenium.webdriver.remote.webelement.WebElement (session=\"746079733e053dce4c8e91c1a1e3174f\", element=\"0.31255751427236844-5\")>,\n",
       " <selenium.webdriver.remote.webelement.WebElement (session=\"746079733e053dce4c8e91c1a1e3174f\", element=\"0.31255751427236844-6\")>,\n",
       " <selenium.webdriver.remote.webelement.WebElement (session=\"746079733e053dce4c8e91c1a1e3174f\", element=\"0.31255751427236844-7\")>,\n",
       " <selenium.webdriver.remote.webelement.WebElement (session=\"746079733e053dce4c8e91c1a1e3174f\", element=\"0.31255751427236844-8\")>,\n",
       " <selenium.webdriver.remote.webelement.WebElement (session=\"746079733e053dce4c8e91c1a1e3174f\", element=\"0.31255751427236844-9\")>]"
      ]
     },
     "execution_count": 4,
     "metadata": {},
     "output_type": "execute_result"
    }
   ],
   "source": [
    "items = driver.find_elements_by_css_selector(\"#content > div.section_news > div.bd > ul > li\")\n",
    "items"
   ]
  },
  {
   "cell_type": "code",
   "execution_count": 9,
   "metadata": {},
   "outputs": [],
   "source": [
    "for i in range(9):\n",
    "    items[i].find_element_by_css_selector(\"div > strong > a\").click()\n",
    "    time.sleep(0.5)"
   ]
  },
  {
   "cell_type": "code",
   "execution_count": 38,
   "metadata": {},
   "outputs": [],
   "source": [
    "driver.find_element_by_tag_name(\"body\").send_keys(Keys.COMMAND + \"t\")"
   ]
  },
  {
   "cell_type": "code",
   "execution_count": 49,
   "metadata": {},
   "outputs": [],
   "source": [
    "driver.execute_script(\"window.open('');\")"
   ]
  },
  {
   "cell_type": "code",
   "execution_count": 52,
   "metadata": {},
   "outputs": [],
   "source": [
    "driver.quit()"
   ]
  },
  {
   "cell_type": "code",
   "execution_count": null,
   "metadata": {},
   "outputs": [],
   "source": []
  },
  {
   "cell_type": "code",
   "execution_count": null,
   "metadata": {},
   "outputs": [],
   "source": [
    "article_title = driver.find_element_by_css_selector(\"#article_title\").text\n",
    "article_body = driver.find_element_by_css_selector(\"#article_body\").text"
   ]
  },
  {
   "cell_type": "code",
   "execution_count": null,
   "metadata": {},
   "outputs": [],
   "source": [
    "joongangilbo[\"date\"] = [article_date]\n",
    "joongangilbo[\"title\"] = [article_title]\n",
    "joongangilbo[\"body\"] = [article_body]\n",
    "joongangilbo"
   ]
  },
  {
   "cell_type": "code",
   "execution_count": null,
   "metadata": {},
   "outputs": [],
   "source": []
  },
  {
   "cell_type": "code",
   "execution_count": null,
   "metadata": {},
   "outputs": [],
   "source": [
    "https://search.joins.com/TotalNews?page=159&Keyword=%EC%82%AC%EC%84%A4%20%EB%B0%95%EA%B7%BC%ED%98%9C&PeriodType=DirectInput&StartSearchDate=12%2F20%2F2012%2000%3A00%3A00&EndSearchDate=08%2F02%2F2018%2000%3A00%3A00&SortType=New&SourceGroupType=Joongang&ServiceCode=20&SearchCategoryType=TotalNews&MatchKeyword=%EC%82%AC%EC%84%A4"
   ]
  },
  {
   "cell_type": "code",
   "execution_count": null,
   "metadata": {},
   "outputs": [],
   "source": []
  },
  {
   "cell_type": "markdown",
   "metadata": {},
   "source": [
    "### test 1. 중앙일보"
   ]
  },
  {
   "cell_type": "markdown",
   "metadata": {},
   "source": [
    "##### ready for start"
   ]
  },
  {
   "cell_type": "code",
   "execution_count": 62,
   "metadata": {},
   "outputs": [
    {
     "data": {
      "text/html": [
       "<div>\n",
       "<style scoped>\n",
       "    .dataframe tbody tr th:only-of-type {\n",
       "        vertical-align: middle;\n",
       "    }\n",
       "\n",
       "    .dataframe tbody tr th {\n",
       "        vertical-align: top;\n",
       "    }\n",
       "\n",
       "    .dataframe thead th {\n",
       "        text-align: right;\n",
       "    }\n",
       "</style>\n",
       "<table border=\"1\" class=\"dataframe\">\n",
       "  <thead>\n",
       "    <tr style=\"text-align: right;\">\n",
       "      <th></th>\n",
       "      <th>date</th>\n",
       "      <th>title</th>\n",
       "      <th>body</th>\n",
       "    </tr>\n",
       "  </thead>\n",
       "  <tbody>\n",
       "  </tbody>\n",
       "</table>\n",
       "</div>"
      ],
      "text/plain": [
       "Empty DataFrame\n",
       "Columns: [date, title, body]\n",
       "Index: []"
      ]
     },
     "execution_count": 62,
     "metadata": {},
     "output_type": "execute_result"
    }
   ],
   "source": [
    "# get selenium driver\n",
    "driver = webdriver.Chrome()\n",
    "\n",
    "# make article dataframe\n",
    "joongangilbo = pd.DataFrame(columns=[\"date\", \"title\", \"body\"])\n",
    "joongangilbo.tail()"
   ]
  },
  {
   "cell_type": "code",
   "execution_count": null,
   "metadata": {},
   "outputs": [],
   "source": [
    "for j in range(1, 10):\n",
    "    url = \"https://search.joins.com/TotalNews?page=\" + str(j) + \"&Keyword=%EC%82%AC%EC%84%A4%20%EB%B0%95%EA%B7%BC%ED%98%9C&PeriodType=DirectInput&StartSearchDate=12%2F20%2F2012%2000%3A00%3A00&EndSearchDate=03%2F10%2F2017%2000%3A00%3A00&SortType=New&SourceGroupType=Joongang&ServiceCode=20&SearchCategoryType=TotalNews&MatchKeyword=%EC%82%AC%EC%84%A4\"\n",
    "    driver.get(url)\n",
    "    time.sleep(3)\n",
    "\n",
    "    # Get current window/tab ID\n",
    "    current_window = driver.current_window_handle\n",
    "    \n",
    "    for i in range(10):\n",
    "        # .Get into Article\n",
    "        articles = driver.find_elements_by_css_selector(\"#content > div.section_news > div.bd > ul > li\")\n",
    "        articles[i].find_element_by_css_selector(\"div > strong > a\").click()\n",
    "\n",
    "        # Get new window/tab ID\n",
    "        new_window = [window for window in driver.window_handles if window != current_window][0]\n",
    "        # Switch to new window/tab\n",
    "        driver.switch_to.window(new_window)\n",
    "        time.sleep(1)\n",
    "\n",
    "        # .Get article data\n",
    "        article_date = driver.find_element_by_css_selector(\"#body > div.article_head > div.clearfx > div.byline > em:nth-child(2)\").text[3:13]\n",
    "        article_title = driver.find_element_by_css_selector(\"#article_title\").text\n",
    "        article_body = driver.find_element_by_css_selector(\"#article_body\").text\n",
    "\n",
    "        joongangilbo.loc[len(joongangilbo)] = {\n",
    "            \"date\" : article_date,\n",
    "            \"title\" : article_title,\n",
    "            \"body\" : article_body,\n",
    "        }\n",
    "\n",
    "        time.sleep(1)\n",
    "\n",
    "        # Close new window/tab\n",
    "        driver.close()\n",
    "\n",
    "        # Switch to initial window/tab\n",
    "        driver.switch_to.window(current_window)\n",
    "        time.sleep(2)"
   ]
  },
  {
   "cell_type": "code",
   "execution_count": 64,
   "metadata": {},
   "outputs": [
    {
     "data": {
      "text/html": [
       "<div>\n",
       "<style scoped>\n",
       "    .dataframe tbody tr th:only-of-type {\n",
       "        vertical-align: middle;\n",
       "    }\n",
       "\n",
       "    .dataframe tbody tr th {\n",
       "        vertical-align: top;\n",
       "    }\n",
       "\n",
       "    .dataframe thead th {\n",
       "        text-align: right;\n",
       "    }\n",
       "</style>\n",
       "<table border=\"1\" class=\"dataframe\">\n",
       "  <thead>\n",
       "    <tr style=\"text-align: right;\">\n",
       "      <th></th>\n",
       "      <th>date</th>\n",
       "      <th>title</th>\n",
       "      <th>body</th>\n",
       "    </tr>\n",
       "  </thead>\n",
       "  <tbody>\n",
       "    <tr>\n",
       "      <th>23</th>\n",
       "      <td>2017.02.22</td>\n",
       "      <td>[사설] 최순실의 권력기관장 꽂기 의혹 … 끝까지 진상 밝혀야</td>\n",
       "      <td>최순실 국정 농단의 핵심 축 가운데 하나인 인사 농단 파문이 커지고 있다. 박영수 ...</td>\n",
       "    </tr>\n",
       "    <tr>\n",
       "      <th>24</th>\n",
       "      <td>2017.02.22</td>\n",
       "      <td>[사설] 교육부·미래부, 왜 해체 공약 나오는지 되새겨 보라</td>\n",
       "      <td>박근혜 대통령 탄핵 정국 속에 유력 대선주자들이 내놓은 정부조직 개편 공약이 관가를...</td>\n",
       "    </tr>\n",
       "    <tr>\n",
       "      <th>25</th>\n",
       "      <td>2017.02.21</td>\n",
       "      <td>[키워드로 보는 사설] 보수 정당의 당명 변천사</td>\n",
       "      <td>국내 보수 정당은 1990년 이른바 ‘3당 합당’으로 탄생한 민주자유당 이후 신한...</td>\n",
       "    </tr>\n",
       "    <tr>\n",
       "      <th>26</th>\n",
       "      <td>2017.02.21</td>\n",
       "      <td>[사설 속으로] 오늘의 논점 - 보수 개혁 논란</td>\n",
       "      <td>중앙일보 &lt;2017년 2월 10일자&gt;\\n비상구를 찾지 못하는 보수 개혁\\n\\n \\n...</td>\n",
       "    </tr>\n",
       "    <tr>\n",
       "      <th>27</th>\n",
       "      <td>2017.02.21</td>\n",
       "      <td>[사설] 박 대통령, 헌재 출석 일정 명백히 밝히는 게 도리다</td>\n",
       "      <td>박근혜 대통령에 대한 탄핵심판 최종변론 및 결정 선고 시기 등을 놓고 헌법재판소와 ...</td>\n",
       "    </tr>\n",
       "  </tbody>\n",
       "</table>\n",
       "</div>"
      ],
      "text/plain": [
       "          date                               title  \\\n",
       "23  2017.02.22  [사설] 최순실의 권력기관장 꽂기 의혹 … 끝까지 진상 밝혀야   \n",
       "24  2017.02.22   [사설] 교육부·미래부, 왜 해체 공약 나오는지 되새겨 보라   \n",
       "25  2017.02.21          [키워드로 보는 사설] 보수 정당의 당명 변천사   \n",
       "26  2017.02.21          [사설 속으로] 오늘의 논점 - 보수 개혁 논란   \n",
       "27  2017.02.21  [사설] 박 대통령, 헌재 출석 일정 명백히 밝히는 게 도리다   \n",
       "\n",
       "                                                 body  \n",
       "23  최순실 국정 농단의 핵심 축 가운데 하나인 인사 농단 파문이 커지고 있다. 박영수 ...  \n",
       "24  박근혜 대통령 탄핵 정국 속에 유력 대선주자들이 내놓은 정부조직 개편 공약이 관가를...  \n",
       "25   국내 보수 정당은 1990년 이른바 ‘3당 합당’으로 탄생한 민주자유당 이후 신한...  \n",
       "26  중앙일보 <2017년 2월 10일자>\\n비상구를 찾지 못하는 보수 개혁\\n\\n \\n...  \n",
       "27  박근혜 대통령에 대한 탄핵심판 최종변론 및 결정 선고 시기 등을 놓고 헌법재판소와 ...  "
      ]
     },
     "execution_count": 64,
     "metadata": {},
     "output_type": "execute_result"
    }
   ],
   "source": [
    "joongangilbo.tail()"
   ]
  },
  {
   "cell_type": "code",
   "execution_count": null,
   "metadata": {},
   "outputs": [],
   "source": []
  },
  {
   "cell_type": "markdown",
   "metadata": {},
   "source": [
    "### test 2. 경향신문"
   ]
  },
  {
   "cell_type": "code",
   "execution_count": 119,
   "metadata": {},
   "outputs": [
    {
     "data": {
      "text/html": [
       "<div>\n",
       "<style scoped>\n",
       "    .dataframe tbody tr th:only-of-type {\n",
       "        vertical-align: middle;\n",
       "    }\n",
       "\n",
       "    .dataframe tbody tr th {\n",
       "        vertical-align: top;\n",
       "    }\n",
       "\n",
       "    .dataframe thead th {\n",
       "        text-align: right;\n",
       "    }\n",
       "</style>\n",
       "<table border=\"1\" class=\"dataframe\">\n",
       "  <thead>\n",
       "    <tr style=\"text-align: right;\">\n",
       "      <th></th>\n",
       "      <th>date</th>\n",
       "      <th>title</th>\n",
       "      <th>body</th>\n",
       "    </tr>\n",
       "  </thead>\n",
       "  <tbody>\n",
       "  </tbody>\n",
       "</table>\n",
       "</div>"
      ],
      "text/plain": [
       "Empty DataFrame\n",
       "Columns: [date, title, body]\n",
       "Index: []"
      ]
     },
     "execution_count": 119,
     "metadata": {},
     "output_type": "execute_result"
    }
   ],
   "source": [
    "# get selenium driver\n",
    "driver = webdriver.Chrome()\n",
    "driver.maximize_window() ## For maximizing window\n",
    "driver.implicitly_wait(20) ## gives an implicit wait for 20 seconds\n",
    "\n",
    "# make article dataframe\n",
    "khan = pd.DataFrame(columns=[\"date\", \"title\", \"body\"])\n",
    "khan.tail()"
   ]
  },
  {
   "cell_type": "code",
   "execution_count": 128,
   "metadata": {},
   "outputs": [
    {
     "name": "stdout",
     "output_type": "stream",
     "text": [
      "Error! in 101 page, 4 article\n",
      "Error! in 103 page, 8 article\n",
      "Error! in 105 page, 8 article\n",
      "Error! in 109 page, 4 article\n",
      "Error! in 120 page, 5 article\n",
      "Error! in 121 page, 3 article\n",
      "Error! in 125 page, 2 article\n",
      "Error! in 129 page, 4 article\n",
      "Error! in 135 page, 1 article\n",
      "Error! in 137 page, 6 article\n",
      "Error! in 140 page, 9 article\n",
      "Error! in 142 page, 2 article\n",
      "Error! in 146 page, 1 article\n",
      "Error! in 146 page, 8 article\n",
      "Error! in 147 page, 8 article\n",
      "Error! in 150 page, 2 article\n",
      "Error! in 151 page, 4 article\n",
      "Error! in 152 page, 8 article\n",
      "Error! in 153 page, 6 article\n",
      "Error! in 157 page, 2 article\n",
      "Error! in 159 page, 0 article\n",
      "Error! in 168 page, 5 article\n",
      "Error! in 171 page, 7 article\n",
      "Error! in 178 page, 2 article\n",
      "Error! in 188 page, 0 article\n",
      "Error! in 195 page, 3 article\n"
     ]
    }
   ],
   "source": [
    "for j in range(100, 197):\n",
    "    url = \"http://search.khan.co.kr/search.html?stb=khan&q=%5B%EC%82%AC%EC%84%A4%5D+%EB%B0%95%EA%B7%BC%ED%98%9C&dm=5&pg=\" + str(j) + \"&sort=3&d1=20121220~20170310\"\n",
    "    driver.get(url)\n",
    "    \n",
    "    # Get current window/tab ID\n",
    "    current_window = driver.current_window_handle\n",
    "\n",
    "    for i in range(10):\n",
    "\n",
    "        # .Get into Article\n",
    "        articles = driver.find_elements_by_css_selector(\"#container > div.content > div.news.section > dl\")\n",
    "        articles[i].find_element_by_css_selector(\"dt > a\").click()\n",
    "\n",
    "        # Get new window/tab ID\n",
    "        new_window = [window for window in driver.window_handles if window != current_window][0]\n",
    "        # Switch to new window/tab\n",
    "        driver.switch_to.window(new_window)\n",
    "        time.sleep(1)\n",
    "\n",
    "        try:\n",
    "            # .Get article data\n",
    "            article_date = driver.find_element_by_css_selector(\"#container > div.art_header.borderless > div.function_wrap > div.pagecontrol > div > em\").text[5:15]\n",
    "            article_title = driver.find_element_by_css_selector(\"#container > div.art_header.borderless > div.subject\").text\n",
    "            article_body = driver.find_element_by_css_selector(\"#articleBody\").text\n",
    "\n",
    "            khan.loc[len(khan)] = {\n",
    "                \"date\" : article_date,\n",
    "                \"title\" : article_title,\n",
    "                \"body\" : article_body,\n",
    "            }\n",
    "\n",
    "            time.sleep(1)\n",
    "\n",
    "        except:\n",
    "            print(\"Error! in {} page, {} article\".format(j, i))\n",
    "            # Close new window/tab\n",
    "        driver.close()\n",
    "\n",
    "        # Switch to initial window/tab\n",
    "        driver.switch_to.window(current_window)\n",
    "        time.sleep(2)"
   ]
  },
  {
   "cell_type": "code",
   "execution_count": 129,
   "metadata": {},
   "outputs": [],
   "source": [
    "for j in range(197, 198):\n",
    "    url = \"http://search.khan.co.kr/search.html?stb=khan&q=%5B%EC%82%AC%EC%84%A4%5D+%EB%B0%95%EA%B7%BC%ED%98%9C&dm=5&pg=\" + str(j) + \"&sort=3&d1=20121220~20170310\"\n",
    "    driver.get(url)\n",
    "    \n",
    "    # Get current window/tab ID\n",
    "    current_window = driver.current_window_handle\n",
    "\n",
    "    for i in range(3):\n",
    "\n",
    "        # .Get into Article\n",
    "        articles = driver.find_elements_by_css_selector(\"#container > div.content > div.news.section > dl\")\n",
    "        articles[i].find_element_by_css_selector(\"dt > a\").click()\n",
    "\n",
    "        # Get new window/tab ID\n",
    "        new_window = [window for window in driver.window_handles if window != current_window][0]\n",
    "        # Switch to new window/tab\n",
    "        driver.switch_to.window(new_window)\n",
    "        time.sleep(1)\n",
    "\n",
    "        try:\n",
    "            # .Get article data\n",
    "            article_date = driver.find_element_by_css_selector(\"#container > div.art_header.borderless > div.function_wrap > div.pagecontrol > div > em\").text[5:15]\n",
    "            article_title = driver.find_element_by_css_selector(\"#container > div.art_header.borderless > div.subject\").text\n",
    "            article_body = driver.find_element_by_css_selector(\"#articleBody\").text\n",
    "\n",
    "            khan.loc[len(khan)] = {\n",
    "                \"date\" : article_date,\n",
    "                \"title\" : article_title,\n",
    "                \"body\" : article_body,\n",
    "            }\n",
    "\n",
    "            time.sleep(1)\n",
    "\n",
    "        except:\n",
    "            print(\"Error! in {} page, {} article\".format(j, i))\n",
    "            # Close new window/tab\n",
    "        driver.close()\n",
    "\n",
    "        # Switch to initial window/tab\n",
    "        driver.switch_to.window(current_window)\n",
    "        time.sleep(2)"
   ]
  },
  {
   "cell_type": "code",
   "execution_count": 121,
   "metadata": {},
   "outputs": [
    {
     "data": {
      "text/html": [
       "<div>\n",
       "<style scoped>\n",
       "    .dataframe tbody tr th:only-of-type {\n",
       "        vertical-align: middle;\n",
       "    }\n",
       "\n",
       "    .dataframe tbody tr th {\n",
       "        vertical-align: top;\n",
       "    }\n",
       "\n",
       "    .dataframe thead th {\n",
       "        text-align: right;\n",
       "    }\n",
       "</style>\n",
       "<table border=\"1\" class=\"dataframe\">\n",
       "  <thead>\n",
       "    <tr style=\"text-align: right;\">\n",
       "      <th></th>\n",
       "      <th>date</th>\n",
       "      <th>title</th>\n",
       "      <th>body</th>\n",
       "    </tr>\n",
       "  </thead>\n",
       "  <tbody>\n",
       "    <tr>\n",
       "      <th>384</th>\n",
       "      <td>2014.01.02</td>\n",
       "      <td>[사설]정권 비판했다고 망자 명예까지 훼손하나</td>\n",
       "      <td>국정원 대선개입 특검 실시 등을 요구하며 분신 사망한 이남종씨 사건을 처리하는 경찰...</td>\n",
       "    </tr>\n",
       "    <tr>\n",
       "      <th>385</th>\n",
       "      <td>2014.01.03</td>\n",
       "      <td>[사설]박 대통령, 특검 수용으로 과거와 단절해야</td>\n",
       "      <td>박근혜 정권 출범 이후 빚어진 거의 모든 정치적 갈등의 기저에는 국가기관 대선개입 ...</td>\n",
       "    </tr>\n",
       "    <tr>\n",
       "      <th>386</th>\n",
       "      <td>2014.01.05</td>\n",
       "      <td>[사설]정부에선 왜 남북대화 한마디도 안 나오나</td>\n",
       "      <td>통일부는 지난 3일 ‘북한 신년사 관련 입장’을 발표했다. 김정은 노동당 제1비서가...</td>\n",
       "    </tr>\n",
       "    <tr>\n",
       "      <th>387</th>\n",
       "      <td>2014.01.05</td>\n",
       "      <td>이슈\\n기초연금 등 복지공약 후퇴 논란\\n[사설]기초연금법 민·관·정 협의체에 바란다</td>\n",
       "      <td>기초연금법 제정 문제를 논의하는 민·관·정 협의체가 국회에 꾸려질 모양이다. 여야 ...</td>\n",
       "    </tr>\n",
       "    <tr>\n",
       "      <th>388</th>\n",
       "      <td>2014.01.06</td>\n",
       "      <td>이슈\\n박 대통령 취임 첫 기자회견\\n[사설]국민이 ‘듣고 싶은’ 얘기 외면한 신년회견</td>\n",
       "      <td>박근혜 대통령이 취임 316일째에야 처음으로 어제 대국민 기자회견을 했다. 불통과 ...</td>\n",
       "    </tr>\n",
       "  </tbody>\n",
       "</table>\n",
       "</div>"
      ],
      "text/plain": [
       "           date                                             title  \\\n",
       "384  2014.01.02                         [사설]정권 비판했다고 망자 명예까지 훼손하나   \n",
       "385  2014.01.03                       [사설]박 대통령, 특검 수용으로 과거와 단절해야   \n",
       "386  2014.01.05                        [사설]정부에선 왜 남북대화 한마디도 안 나오나   \n",
       "387  2014.01.05   이슈\\n기초연금 등 복지공약 후퇴 논란\\n[사설]기초연금법 민·관·정 협의체에 바란다   \n",
       "388  2014.01.06  이슈\\n박 대통령 취임 첫 기자회견\\n[사설]국민이 ‘듣고 싶은’ 얘기 외면한 신년회견   \n",
       "\n",
       "                                                  body  \n",
       "384  국정원 대선개입 특검 실시 등을 요구하며 분신 사망한 이남종씨 사건을 처리하는 경찰...  \n",
       "385  박근혜 정권 출범 이후 빚어진 거의 모든 정치적 갈등의 기저에는 국가기관 대선개입 ...  \n",
       "386  통일부는 지난 3일 ‘북한 신년사 관련 입장’을 발표했다. 김정은 노동당 제1비서가...  \n",
       "387  기초연금법 제정 문제를 논의하는 민·관·정 협의체가 국회에 꾸려질 모양이다. 여야 ...  \n",
       "388  박근혜 대통령이 취임 316일째에야 처음으로 어제 대국민 기자회견을 했다. 불통과 ...  "
      ]
     },
     "execution_count": 121,
     "metadata": {},
     "output_type": "execute_result"
    }
   ],
   "source": [
    "khan.tail()"
   ]
  },
  {
   "cell_type": "code",
   "execution_count": 123,
   "metadata": {},
   "outputs": [],
   "source": [
    "khan_50 = khan.copy()"
   ]
  },
  {
   "cell_type": "code",
   "execution_count": 124,
   "metadata": {},
   "outputs": [],
   "source": [
    "khan_50.to_pickle('kh_50.pkl')"
   ]
  },
  {
   "cell_type": "code",
   "execution_count": 127,
   "metadata": {},
   "outputs": [],
   "source": [
    "khan_100 = khan.copy()\n",
    "khan_100.to_pickle('kh_100.pkl')"
   ]
  },
  {
   "cell_type": "code",
   "execution_count": 132,
   "metadata": {},
   "outputs": [],
   "source": [
    "khan_raw = khan.copy()"
   ]
  },
  {
   "cell_type": "code",
   "execution_count": 157,
   "metadata": {},
   "outputs": [
    {
     "data": {
      "text/html": [
       "<div>\n",
       "<style scoped>\n",
       "    .dataframe tbody tr th:only-of-type {\n",
       "        vertical-align: middle;\n",
       "    }\n",
       "\n",
       "    .dataframe tbody tr th {\n",
       "        vertical-align: top;\n",
       "    }\n",
       "\n",
       "    .dataframe thead th {\n",
       "        text-align: right;\n",
       "    }\n",
       "</style>\n",
       "<table border=\"1\" class=\"dataframe\">\n",
       "  <thead>\n",
       "    <tr style=\"text-align: right;\">\n",
       "      <th></th>\n",
       "      <th>date</th>\n",
       "      <th>title</th>\n",
       "      <th>body</th>\n",
       "    </tr>\n",
       "  </thead>\n",
       "  <tbody>\n",
       "    <tr>\n",
       "      <th>1811</th>\n",
       "      <td>2017.02.27</td>\n",
       "      <td>[사설]탄핵 사유 하나도 없다는 박 대통령의 기막힌 최후변명</td>\n",
       "      <td>박근혜 대통령은 마지막까지 온 시민의 억장을 무너뜨렸다. 박 대통령은 27일 헌법재...</td>\n",
       "    </tr>\n",
       "    <tr>\n",
       "      <th>1812</th>\n",
       "      <td>2017.02.27</td>\n",
       "      <td>[사설]우병우 의혹, 이영선 차명폰 50대 다 덮으라는 건가</td>\n",
       "      <td>황교안 대통령 권한대행의 특검 연장 거부로 ‘법 미꾸라지’ 우병우 전 청와대 민정수...</td>\n",
       "    </tr>\n",
       "    <tr>\n",
       "      <th>1813</th>\n",
       "      <td>2017.02.28</td>\n",
       "      <td>[사설]3·1절 98년에도 이루지 못한 선열들의 꿈</td>\n",
       "      <td>3·1운동 98돌을 맞았지만 선열들 앞에 우리는 한없이 부끄럽다. 일제 지배에서 벗...</td>\n",
       "    </tr>\n",
       "    <tr>\n",
       "      <th>1814</th>\n",
       "      <td>2017.02.28</td>\n",
       "      <td>[사설]그룹 컨트롤타워 해체 삼성의 변화를 주목한다</td>\n",
       "      <td>삼성그룹이 28일 ‘박근혜·최순실 게이트’와 관련해 쇄신안을 발표했다. 삼성그룹에서...</td>\n",
       "    </tr>\n",
       "    <tr>\n",
       "      <th>1815</th>\n",
       "      <td>2017.03.01</td>\n",
       "      <td>[사설]3·1절 광장의 촛불과 태극기, 그 걱정과 희망</td>\n",
       "      <td>1일 서울 광화문 일대에서 탄핵 찬반 집회가 동시에 열렸다. 박근혜 대통령 탄핵을 ...</td>\n",
       "    </tr>\n",
       "  </tbody>\n",
       "</table>\n",
       "</div>"
      ],
      "text/plain": [
       "            date                              title  \\\n",
       "1811  2017.02.27  [사설]탄핵 사유 하나도 없다는 박 대통령의 기막힌 최후변명   \n",
       "1812  2017.02.27  [사설]우병우 의혹, 이영선 차명폰 50대 다 덮으라는 건가   \n",
       "1813  2017.02.28       [사설]3·1절 98년에도 이루지 못한 선열들의 꿈   \n",
       "1814  2017.02.28       [사설]그룹 컨트롤타워 해체 삼성의 변화를 주목한다   \n",
       "1815  2017.03.01     [사설]3·1절 광장의 촛불과 태극기, 그 걱정과 희망   \n",
       "\n",
       "                                                   body  \n",
       "1811  박근혜 대통령은 마지막까지 온 시민의 억장을 무너뜨렸다. 박 대통령은 27일 헌법재...  \n",
       "1812  황교안 대통령 권한대행의 특검 연장 거부로 ‘법 미꾸라지’ 우병우 전 청와대 민정수...  \n",
       "1813  3·1운동 98돌을 맞았지만 선열들 앞에 우리는 한없이 부끄럽다. 일제 지배에서 벗...  \n",
       "1814  삼성그룹이 28일 ‘박근혜·최순실 게이트’와 관련해 쇄신안을 발표했다. 삼성그룹에서...  \n",
       "1815  1일 서울 광화문 일대에서 탄핵 찬반 집회가 동시에 열렸다. 박근혜 대통령 탄핵을 ...  "
      ]
     },
     "execution_count": 157,
     "metadata": {},
     "output_type": "execute_result"
    }
   ],
   "source": [
    "khan_featrue = khan_raw[khan_raw.title.str.startswith(\"[사설]\")].copy()\n",
    "khan_featrue.tail()"
   ]
  },
  {
   "cell_type": "code",
   "execution_count": 158,
   "metadata": {},
   "outputs": [],
   "source": [
    "khan_featrue.reset_index(drop=True, inplace=True)"
   ]
  },
  {
   "cell_type": "code",
   "execution_count": 160,
   "metadata": {},
   "outputs": [],
   "source": [
    "khan_featrue.to_pickle(\"kh_whole.pkl\")"
   ]
  },
  {
   "cell_type": "code",
   "execution_count": 161,
   "metadata": {},
   "outputs": [],
   "source": [
    "driver.quit()"
   ]
  },
  {
   "cell_type": "code",
   "execution_count": null,
   "metadata": {},
   "outputs": [],
   "source": []
  },
  {
   "cell_type": "markdown",
   "metadata": {},
   "source": [
    "### 한겨레"
   ]
  },
  {
   "cell_type": "code",
   "execution_count": 218,
   "metadata": {},
   "outputs": [
    {
     "data": {
      "text/html": [
       "<div>\n",
       "<style scoped>\n",
       "    .dataframe tbody tr th:only-of-type {\n",
       "        vertical-align: middle;\n",
       "    }\n",
       "\n",
       "    .dataframe tbody tr th {\n",
       "        vertical-align: top;\n",
       "    }\n",
       "\n",
       "    .dataframe thead th {\n",
       "        text-align: right;\n",
       "    }\n",
       "</style>\n",
       "<table border=\"1\" class=\"dataframe\">\n",
       "  <thead>\n",
       "    <tr style=\"text-align: right;\">\n",
       "      <th></th>\n",
       "      <th>date</th>\n",
       "      <th>title</th>\n",
       "      <th>body</th>\n",
       "    </tr>\n",
       "  </thead>\n",
       "  <tbody>\n",
       "  </tbody>\n",
       "</table>\n",
       "</div>"
      ],
      "text/plain": [
       "Empty DataFrame\n",
       "Columns: [date, title, body]\n",
       "Index: []"
      ]
     },
     "execution_count": 218,
     "metadata": {},
     "output_type": "execute_result"
    }
   ],
   "source": [
    "# get selenium driver\n",
    "driver = webdriver.Chrome()\n",
    "driver.maximize_window() ## For maximizing window\n",
    "driver.implicitly_wait(30) ## gives an implicit wait for 20 seconds\n",
    "\n",
    "# make article dataframe\n",
    "hani = pd.DataFrame(columns=[\"date\", \"title\", \"body\"])\n",
    "hani.tail()"
   ]
  },
  {
   "cell_type": "code",
   "execution_count": 219,
   "metadata": {},
   "outputs": [],
   "source": [
    "url = \"http://search.hani.co.kr/Search?command=query&keyword=%EC%82%AC%EC%84%A4+%EB%B0%95%EA%B7%BC%ED%98%9C&media=news&sort=d&period=all&datefrom=2012.12.20&dateto=2014.12.01&pageseq=0\"\n",
    "driver.get(url)\n",
    "\n",
    "# Get current window/tab ID\n",
    "current_window = driver.current_window_handle"
   ]
  },
  {
   "cell_type": "code",
   "execution_count": 220,
   "metadata": {},
   "outputs": [
    {
     "data": {
      "text/plain": [
       "'CDwindow-DCB094B9E5DE46D5332022EC1613C5A3'"
      ]
     },
     "execution_count": 220,
     "metadata": {},
     "output_type": "execute_result"
    }
   ],
   "source": [
    "current_window"
   ]
  },
  {
   "cell_type": "code",
   "execution_count": 221,
   "metadata": {},
   "outputs": [
    {
     "data": {
      "text/plain": [
       "'CDwindow-DCB094B9E5DE46D5332022EC1613C5A3'"
      ]
     },
     "execution_count": 221,
     "metadata": {},
     "output_type": "execute_result"
    }
   ],
   "source": [
    "articles = driver.find_elements_by_css_selector(\"#contents > div.search-result-section.first-child > ul > li\")\n",
    "articles[1].find_element_by_css_selector(\"dl > dt > a\").click()\n",
    "\n",
    "# Get new window/tab ID\n",
    "new_window = [window for window in driver.window_handles][0]\n",
    "new_window"
   ]
  },
  {
   "cell_type": "code",
   "execution_count": 224,
   "metadata": {},
   "outputs": [
    {
     "data": {
      "text/plain": [
       "'CDwindow-DCB094B9E5DE46D5332022EC1613C5A3'"
      ]
     },
     "execution_count": 224,
     "metadata": {},
     "output_type": "execute_result"
    }
   ],
   "source": [
    "driver.current_window_handle"
   ]
  },
  {
   "cell_type": "code",
   "execution_count": null,
   "metadata": {},
   "outputs": [],
   "source": []
  },
  {
   "cell_type": "code",
   "execution_count": 211,
   "metadata": {},
   "outputs": [
    {
     "ename": "WebDriverException",
     "evalue": "Message: no such session\n  (Driver info: chromedriver=2.40.565386 (45a059dc425e08165f9a10324bd1380cc13ca363),platform=Mac OS X 10.13.4 x86_64)\n",
     "output_type": "error",
     "traceback": [
      "\u001b[0;31m---------------------------------------------------------------------------\u001b[0m",
      "\u001b[0;31mWebDriverException\u001b[0m                        Traceback (most recent call last)",
      "\u001b[0;32m<ipython-input-211-5587779c30d2>\u001b[0m in \u001b[0;36m<module>\u001b[0;34m()\u001b[0m\n\u001b[1;32m      2\u001b[0m \u001b[0;34m\u001b[0m\u001b[0m\n\u001b[1;32m      3\u001b[0m     \u001b[0murl\u001b[0m \u001b[0;34m=\u001b[0m \u001b[0;34m\"http://search.hani.co.kr/Search?command=query&keyword=%EC%82%AC%EC%84%A4+%EB%B0%95%EA%B7%BC%ED%98%9C&media=news&sort=d&period=all&datefrom=2012.12.20&dateto=2014.12.01&pageseq=0\"\u001b[0m\u001b[0;34m\u001b[0m\u001b[0m\n\u001b[0;32m----> 4\u001b[0;31m     \u001b[0mdriver\u001b[0m\u001b[0;34m.\u001b[0m\u001b[0mget\u001b[0m\u001b[0;34m(\u001b[0m\u001b[0murl\u001b[0m\u001b[0;34m)\u001b[0m\u001b[0;34m\u001b[0m\u001b[0m\n\u001b[0m\u001b[1;32m      5\u001b[0m \u001b[0;34m\u001b[0m\u001b[0m\n\u001b[1;32m      6\u001b[0m     \u001b[0;31m# Get current window/tab ID\u001b[0m\u001b[0;34m\u001b[0m\u001b[0;34m\u001b[0m\u001b[0m\n",
      "\u001b[0;32m/usr/local/lib/python3.6/site-packages/selenium/webdriver/remote/webdriver.py\u001b[0m in \u001b[0;36mget\u001b[0;34m(self, url)\u001b[0m\n\u001b[1;32m    324\u001b[0m         \u001b[0mLoads\u001b[0m \u001b[0ma\u001b[0m \u001b[0mweb\u001b[0m \u001b[0mpage\u001b[0m \u001b[0;32min\u001b[0m \u001b[0mthe\u001b[0m \u001b[0mcurrent\u001b[0m \u001b[0mbrowser\u001b[0m \u001b[0msession\u001b[0m\u001b[0;34m.\u001b[0m\u001b[0;34m\u001b[0m\u001b[0m\n\u001b[1;32m    325\u001b[0m         \"\"\"\n\u001b[0;32m--> 326\u001b[0;31m         \u001b[0mself\u001b[0m\u001b[0;34m.\u001b[0m\u001b[0mexecute\u001b[0m\u001b[0;34m(\u001b[0m\u001b[0mCommand\u001b[0m\u001b[0;34m.\u001b[0m\u001b[0mGET\u001b[0m\u001b[0;34m,\u001b[0m \u001b[0;34m{\u001b[0m\u001b[0;34m'url'\u001b[0m\u001b[0;34m:\u001b[0m \u001b[0murl\u001b[0m\u001b[0;34m}\u001b[0m\u001b[0;34m)\u001b[0m\u001b[0;34m\u001b[0m\u001b[0m\n\u001b[0m\u001b[1;32m    327\u001b[0m \u001b[0;34m\u001b[0m\u001b[0m\n\u001b[1;32m    328\u001b[0m     \u001b[0;34m@\u001b[0m\u001b[0mproperty\u001b[0m\u001b[0;34m\u001b[0m\u001b[0m\n",
      "\u001b[0;32m/usr/local/lib/python3.6/site-packages/selenium/webdriver/remote/webdriver.py\u001b[0m in \u001b[0;36mexecute\u001b[0;34m(self, driver_command, params)\u001b[0m\n\u001b[1;32m    312\u001b[0m         \u001b[0mresponse\u001b[0m \u001b[0;34m=\u001b[0m \u001b[0mself\u001b[0m\u001b[0;34m.\u001b[0m\u001b[0mcommand_executor\u001b[0m\u001b[0;34m.\u001b[0m\u001b[0mexecute\u001b[0m\u001b[0;34m(\u001b[0m\u001b[0mdriver_command\u001b[0m\u001b[0;34m,\u001b[0m \u001b[0mparams\u001b[0m\u001b[0;34m)\u001b[0m\u001b[0;34m\u001b[0m\u001b[0m\n\u001b[1;32m    313\u001b[0m         \u001b[0;32mif\u001b[0m \u001b[0mresponse\u001b[0m\u001b[0;34m:\u001b[0m\u001b[0;34m\u001b[0m\u001b[0m\n\u001b[0;32m--> 314\u001b[0;31m             \u001b[0mself\u001b[0m\u001b[0;34m.\u001b[0m\u001b[0merror_handler\u001b[0m\u001b[0;34m.\u001b[0m\u001b[0mcheck_response\u001b[0m\u001b[0;34m(\u001b[0m\u001b[0mresponse\u001b[0m\u001b[0;34m)\u001b[0m\u001b[0;34m\u001b[0m\u001b[0m\n\u001b[0m\u001b[1;32m    315\u001b[0m             response['value'] = self._unwrap_value(\n\u001b[1;32m    316\u001b[0m                 response.get('value', None))\n",
      "\u001b[0;32m/usr/local/lib/python3.6/site-packages/selenium/webdriver/remote/errorhandler.py\u001b[0m in \u001b[0;36mcheck_response\u001b[0;34m(self, response)\u001b[0m\n\u001b[1;32m    240\u001b[0m                 \u001b[0malert_text\u001b[0m \u001b[0;34m=\u001b[0m \u001b[0mvalue\u001b[0m\u001b[0;34m[\u001b[0m\u001b[0;34m'alert'\u001b[0m\u001b[0;34m]\u001b[0m\u001b[0;34m.\u001b[0m\u001b[0mget\u001b[0m\u001b[0;34m(\u001b[0m\u001b[0;34m'text'\u001b[0m\u001b[0;34m)\u001b[0m\u001b[0;34m\u001b[0m\u001b[0m\n\u001b[1;32m    241\u001b[0m             \u001b[0;32mraise\u001b[0m \u001b[0mexception_class\u001b[0m\u001b[0;34m(\u001b[0m\u001b[0mmessage\u001b[0m\u001b[0;34m,\u001b[0m \u001b[0mscreen\u001b[0m\u001b[0;34m,\u001b[0m \u001b[0mstacktrace\u001b[0m\u001b[0;34m,\u001b[0m \u001b[0malert_text\u001b[0m\u001b[0;34m)\u001b[0m\u001b[0;34m\u001b[0m\u001b[0m\n\u001b[0;32m--> 242\u001b[0;31m         \u001b[0;32mraise\u001b[0m \u001b[0mexception_class\u001b[0m\u001b[0;34m(\u001b[0m\u001b[0mmessage\u001b[0m\u001b[0;34m,\u001b[0m \u001b[0mscreen\u001b[0m\u001b[0;34m,\u001b[0m \u001b[0mstacktrace\u001b[0m\u001b[0;34m)\u001b[0m\u001b[0;34m\u001b[0m\u001b[0m\n\u001b[0m\u001b[1;32m    243\u001b[0m \u001b[0;34m\u001b[0m\u001b[0m\n\u001b[1;32m    244\u001b[0m     \u001b[0;32mdef\u001b[0m \u001b[0m_value_or_default\u001b[0m\u001b[0;34m(\u001b[0m\u001b[0mself\u001b[0m\u001b[0;34m,\u001b[0m \u001b[0mobj\u001b[0m\u001b[0;34m,\u001b[0m \u001b[0mkey\u001b[0m\u001b[0;34m,\u001b[0m \u001b[0mdefault\u001b[0m\u001b[0;34m)\u001b[0m\u001b[0;34m:\u001b[0m\u001b[0;34m\u001b[0m\u001b[0m\n",
      "\u001b[0;31mWebDriverException\u001b[0m: Message: no such session\n  (Driver info: chromedriver=2.40.565386 (45a059dc425e08165f9a10324bd1380cc13ca363),platform=Mac OS X 10.13.4 x86_64)\n"
     ]
    }
   ],
   "source": [
    "for i in range(10):\n",
    "\n",
    "    url = \"http://search.hani.co.kr/Search?command=query&keyword=%EC%82%AC%EC%84%A4+%EB%B0%95%EA%B7%BC%ED%98%9C&media=news&sort=d&period=all&datefrom=2012.12.20&dateto=2014.12.01&pageseq=0\"\n",
    "    driver.get(url)\n",
    "\n",
    "    # Get current window/tab ID\n",
    "    current_window = driver.current_window_handle\n",
    "\n",
    "    articles = driver.find_elements_by_css_selector(\"#contents > div.search-result-section.first-child > ul > li\")\n",
    "    articles[i].find_element_by_css_selector(\"dl > dt > a\").click()\n",
    "\n",
    "    # Get new window/tab ID\n",
    "    new_window = [window for window in driver.window_handles if window != current_window][0]\n",
    "\n",
    "    # Switch to new window/tab\n",
    "    driver.switch_to.window(new_window)\n",
    "    time.sleep(1)\n",
    "\n",
    "    try:\n",
    "        # .Get article data\n",
    "        article_date = driver.find_element_by_css_selector(\"#article_view_headline > p.date-time > span\").text[4:14]\n",
    "        article_title = driver.find_element_by_css_selector(\"#article_view_headline > h4 > span\").text\n",
    "        article_body = driver.find_element_by_css_selector(\"#a-left-scroll-in > div.article-text > div > div.text\").text\n",
    "\n",
    "        hani.loc[len(hani)] = {\n",
    "            \"date\" : article_date,\n",
    "            \"title\" : article_title,\n",
    "            \"body\" : article_body,\n",
    "        }\n",
    "\n",
    "        time.sleep(1)\n",
    "\n",
    "    except:\n",
    "        print(\"Error! in {} page, {} article\".format(j, i))\n",
    "        # Close new window/tab\n",
    "    driver.close()\n",
    "\n",
    "    # Switch to initial window/tab\n",
    "    driver.switch_to.window(current_window)\n",
    "    time.sleep(2)"
   ]
  },
  {
   "cell_type": "code",
   "execution_count": 225,
   "metadata": {},
   "outputs": [],
   "source": [
    "driver.quit()"
   ]
  }
 ],
 "metadata": {
  "kernelspec": {
   "display_name": "Python 3",
   "language": "python",
   "name": "python3"
  },
  "language_info": {
   "codemirror_mode": {
    "name": "ipython",
    "version": 3
   },
   "file_extension": ".py",
   "mimetype": "text/x-python",
   "name": "python",
   "nbconvert_exporter": "python",
   "pygments_lexer": "ipython3",
   "version": "3.6.5"
  }
 },
 "nbformat": 4,
 "nbformat_minor": 2
}
